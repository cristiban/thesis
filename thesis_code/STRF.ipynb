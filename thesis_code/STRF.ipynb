{
 "cells": [
  {
   "cell_type": "code",
   "execution_count": 6,
   "id": "a1f32372-7b2c-4f12-90df-ef0c4fadc3e4",
   "metadata": {},
   "outputs": [
    {
     "name": "stderr",
     "output_type": "stream",
     "text": [
      "Extension for Scikit-learn* enabled (https://github.com/uxlfoundation/scikit-learn-intelex)\n"
     ]
    }
   ],
   "source": [
    "import pickle as pkl\n",
    "import numpy as np\n",
    "import yaml\n",
    "import naplib as nl\n",
    "from sklearnex import patch_sklearn\n",
    "patch_sklearn()\n",
    "\n",
    "from sklearn.linear_model import Ridge"
   ]
  },
  {
   "cell_type": "code",
   "execution_count": 7,
   "id": "52ff9b92-06ff-40e5-a0ed-c59ae4232ba0",
   "metadata": {},
   "outputs": [],
   "source": [
    "with open('prep_response.npy', 'rb') as f:\n",
    "    small_response = np.load(f)\n",
    "with open('prep_spec.npy', 'rb') as f:\n",
    "    spec = np.load(f)\n",
    "\n",
    "with open(\"code_params.yaml\", \"r\") as file:\n",
    "    code_params = yaml.load(file, yaml.Loader)"
   ]
  },
  {
   "cell_type": "code",
   "execution_count": null,
   "id": "bbb55b62-5bc1-43a5-8359-80f641f793e6",
   "metadata": {},
   "outputs": [
    {
     "name": "stdout",
     "output_type": "stream",
     "text": [
      "(50, 15, 129)\n",
      "(50, 15, 25840)\n"
     ]
    },
    {
     "data": {
      "application/vnd.jupyter.widget-view+json": {
       "model_id": "d4e39a261ddb468bab9fd64fa4c34bff",
       "version_major": 2,
       "version_minor": 0
      },
      "text/plain": [
       "  0%|          | 0/25840 [00:00<?, ?it/s]"
      ]
     },
     "metadata": {},
     "output_type": "display_data"
    }
   ],
   "source": [
    "# apply STRF\n",
    "\n",
    "tmin = 0\n",
    "tmax = 0.3\n",
    "\n",
    "strf_model = nl.encoding.TRF(\n",
    "    tmin, tmax, code_params[\"sr_response\"], estimator=Ridge(10), show_progress=True\n",
    ")\n",
    "\n",
    "try:\n",
    "\twith open('test_coefs_full.pkl', 'rb') as file:\n",
    "\t\tcoef_ridge = pkl.load(file)\n",
    "except FileNotFoundError:    \n",
    "    print(spec.shape)\n",
    "    print(small_response.shape)\n",
    "\n",
    "    strf_model.fit(X=spec, y=small_response)\n",
    "    coef_ridge = strf_model.coef_\n",
    "    with open('test_coefs_full.pkl', 'wb') as file:\n",
    "        pkl.dump(coef_ridge, file)"
   ]
  },
  {
   "cell_type": "code",
   "execution_count": null,
   "id": "7814c6fe-e107-4480-9b95-02e8699987eb",
   "metadata": {},
   "outputs": [],
   "source": [
    "pixels = [1, 120, 150, 240]\n",
    "avg_strf_list = []\n",
    "\n",
    "fig, axes = plt.subplots(1, 4, figsize=(6, 2.5))\n",
    "for i, pixel in enumerate(pixels):\n",
    "    model_1_coef = coef_ridge[pixel]\n",
    "    strf_plot(model_1_coef, tmin=tmin, tmax=tmax, ax=axes[i])\n",
    "    axes[i].set_title(f\"Ridge, Pixel {pixel}\")\n",
    "fig.tight_layout()\n",
    "plt.show()"
   ]
  },
  {
   "cell_type": "code",
   "execution_count": null,
   "id": "edd450ad-0f11-4d8c-b85e-a5e071e19735",
   "metadata": {},
   "outputs": [],
   "source": [
    "avg_strf_list = np.array([np.mean(coef) for coef in coef_ridge])\n",
    "print(coef_ridge.shape)\n",
    "avg_response = np.mean(small_response, axis=(0, 1))\n",
    "avg_strf_list = avg_strf_list.reshape((small_height, small_width))\n",
    "avg_strf_list = (avg_strf_list - np.mean(avg_strf_list)) / (\n",
    "    np.max(avg_strf_list) - np.min(avg_strf_list)\n",
    ")\n",
    "plt.imshow(avg_strf_list, cmap=\"bwr\", vmin=-1, vmax=1)\n",
    "plt.colorbar()\n",
    "# plt.savefig(f\"../thesis_text/Imgs/m{animal_id}_r{recording_id}_t{trial_id}/avg_strf.png\")"
   ]
  },
  {
   "cell_type": "code",
   "execution_count": null,
   "id": "9690a2f6-51b9-4c2f-bc5c-4522338522e3",
   "metadata": {},
   "outputs": [],
   "source": [
    "from IPython.display import Video\n",
    "from matplotlib import animation, cm\n",
    "\n",
    "temporal_avg_strf_list = np.mean(coef_ridge, axis=1)\n",
    "temporal_avg_strf_list = (temporal_avg_strf_list - np.mean(temporal_avg_strf_list)) / (\n",
    "    np.max(temporal_avg_strf_list) - np.min(temporal_avg_strf_list)\n",
    ")\n",
    "temporal_avg_strf_list = np.transpose(temporal_avg_strf_list)\n",
    "temporal_avg_strf_list = temporal_avg_strf_list.reshape(-1, small_height, small_width)\n",
    "\n",
    "frames = []\n",
    "fig = plt.figure()\n",
    "for frame in temporal_avg_strf_list:\n",
    "    frames.append([plt.imshow(frame, cmap=\"bwr\", vmin=-1, vmax=1, animated=True)])\n",
    "ani = animation.ArtistAnimation(fig, frames, interval=50, blit=True, repeat_delay=1000)\n",
    "plt.show()"
   ]
  }
 ],
 "metadata": {
  "kernelspec": {
   "display_name": "Python 3 (ipykernel)",
   "language": "python",
   "name": "python3"
  },
  "language_info": {
   "codemirror_mode": {
    "name": "ipython",
    "version": 3
   },
   "file_extension": ".py",
   "mimetype": "text/x-python",
   "name": "python",
   "nbconvert_exporter": "python",
   "pygments_lexer": "ipython3",
   "version": "3.13.5"
  }
 },
 "nbformat": 4,
 "nbformat_minor": 5
}
