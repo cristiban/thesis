{
 "cells": [
  {
   "cell_type": "code",
   "execution_count": 29,
   "metadata": {},
   "outputs": [
    {
     "name": "stdout",
     "output_type": "stream",
     "text": [
      "env: SCIPY_ARRAY_API=1\n"
     ]
    }
   ],
   "source": [
    "import matplotlib.pyplot as plt\n",
    "from matplotlib import colormaps as cm\n",
    "import numpy as np\n",
    "import cv2\n",
    "from PIL import Image\n",
    "import os\n",
    "%env SCIPY_ARRAY_API=1\n",
    "from sklearn.linear_model import Ridge\n",
    "import cupy\n",
    "import naplib as nl\n",
    "from naplib.visualization import strf_plot\n",
    "import thesis\n",
    "import yaml"
   ]
  },
  {
   "cell_type": "code",
   "execution_count": 30,
   "metadata": {},
   "outputs": [],
   "source": [
    "# thesis.utils.convert_to_npy(\"response\")"
   ]
  },
  {
   "cell_type": "code",
   "execution_count": 31,
   "metadata": {},
   "outputs": [
    {
     "name": "stdout",
     "output_type": "stream",
     "text": [
      "[0.0000e+00 4.0000e-06 8.0000e-06 ... 4.9988e-02 4.9992e-02 4.9996e-02]\n"
     ]
    }
   ],
   "source": [
    "raw_response = thesis.load_data.load_response()\n",
    "raw_stimulus = thesis.load_data.load_stimulus()\n",
    "height, width = int(raw_response.shape[2]), int(raw_response.shape[3])"
   ]
  },
  {
   "cell_type": "code",
   "execution_count": 32,
   "metadata": {},
   "outputs": [],
   "source": [
    "from math import gcd\n",
    "\n",
    "code_params = {\n",
    "    \"block_size\": gcd(width, height),\n",
    "    \"strf_fit_dtype\": np.float64,\n",
    "    \"strf_fit_batch_size\": 10,\n",
    "    \"sr_audio\": 250000,\n",
    "    \"sr_response\": 100,\n",
    "    \"max_lag\": 0.05,\n",
    "    \"end_stim\": 37500 / 250000,\n",
    "    \"max_epochs\": 150,\n",
    "    'reduce_data': False\n",
    "}\n",
    "\n",
    "code_params[\"block_size\"] = (10, 10)\n",
    "code_params[\"strf_fit_dtype\"] = np.float16"
   ]
  },
  {
   "cell_type": "code",
   "execution_count": 33,
   "metadata": {},
   "outputs": [],
   "source": [
    "# # make movie\n",
    "# frame_size = test_data.shape[1:3]\n",
    "\n",
    "# out_lossless = cv2.VideoWriter('test_video.mkv',cv2.VideoWriter_fourcc(*'FFV1'), 100, (frame_size[1], frame_size[0]))\n",
    "# out_lossy = cv2.VideoWriter('test_video_lossy.mkv',cv2.VideoWriter_fourcc(*'VP90'), 100, (frame_size[1], frame_size[0]))\n",
    "\n",
    "# cm_test_data = np.copy(test_data)\n",
    "\n",
    "# bwr_cm = cm.get_cmap('bwr')\n",
    "# cm_test_data = bwr_cm((test_data - np.min(test_data)) / (np.max(test_data) - np.min(test_data)))\n",
    "\n",
    "# cm_test_data = (cm_test_data[:, :, :, :3]*255).astype(np.uint8)\n",
    "\n",
    "# example_images = 100, 250, 400\n",
    "\n",
    "# for index, frame in enumerate(cm_test_data):\n",
    "#     if index in example_images:\n",
    "#         cv2.imwrite(f\"images/frame_{index}.png\", frame)\n",
    "#     out_lossless.write(frame)\n",
    "#     out_lossy.write(frame)\n",
    "# out_lossless.release()\n",
    "# out_lossy.release()"
   ]
  },
  {
   "cell_type": "code",
   "execution_count": 34,
   "metadata": {},
   "outputs": [
    {
     "name": "stdout",
     "output_type": "stream",
     "text": [
      "(50, 15, 170, 152)\n",
      "(50, 15, 170, 152)\n"
     ]
    },
    {
     "name": "stderr",
     "output_type": "stream",
     "text": [
      "Frame dimensions are 170, 152.\n"
     ]
    }
   ],
   "source": [
    "delay = int(code_params[\"sr_response\"] * code_params[\"max_lag\"])\n",
    "stimulus = raw_stimulus[:, : int(code_params[\"end_stim\"] * code_params[\"sr_audio\"])]\n",
    "response = raw_response[\n",
    "    :,\n",
    "    200\n",
    "    + delay : 200\n",
    "    + int(code_params[\"end_stim\"] * code_params[\"sr_response\"] + delay),\n",
    "    :,\n",
    "    :,\n",
    "]\n",
    "print(response.shape)\n",
    "if code_params['reduce_data']:\n",
    "    small_response = thesis.preprocessing.smallify_response(\n",
    "    response, code_params[\"block_size\"]\n",
    ")\n",
    "else: \n",
    "    small_response = response\n",
    "\n",
    "print(small_response.shape)\n",
    "    \n",
    "small_height, small_width = small_response.shape[2], small_response.shape[3]\n",
    "small_response = small_response.reshape(\n",
    "    small_response.shape[0], small_response.shape[1], -1\n",
    ")\n",
    "thesis.thesis_logger.logger.debug(f\"Frame dimensions are {small_height}, {small_width}.\")\n"
   ]
  },
  {
   "cell_type": "code",
   "execution_count": 35,
   "metadata": {},
   "outputs": [
    {
     "data": {
      "image/png": "[encoded data removed]",
      "text/plain": [
       "<Figure size 640x480 with 2 Axes>"
      ]
     },
     "metadata": {},
     "output_type": "display_data"
    }
   ],
   "source": [
    "import scipy as sp\n",
    "from sklearn.preprocessing import StandardScaler\n",
    "\n",
    "# clip response to stimulus start and normalize\n",
    "# = MinMaxScaler()\n",
    "f, t, Sxx = sp.signal.spectrogram(np.sum(stimulus, axis=0), fs=code_params[\"sr_audio\"])\n",
    "plt.pcolormesh(t, f, Sxx, cmap=\"bwr\")\n",
    "plt.colorbar()\n",
    "plt.show()"
   ]
  },
  {
   "cell_type": "code",
   "execution_count": 36,
   "metadata": {},
   "outputs": [],
   "source": [
    "spec = thesis.generate.generate_spectrogram(\n",
    "    stimulus, response, sr_audio=code_params[\"sr_audio\"]\n",
    ")"
   ]
  },
  {
   "cell_type": "code",
   "execution_count": 41,
   "metadata": {},
   "outputs": [],
   "source": [
    "### data naming\n",
    "\n",
    "code_params[\"output_prefix\"] = f\"output/{desc_param}\"\n",
    "code_params[\"crossval\"] = False\n",
    "code_params[\"jackknife\"] = False\n",
    "res = f\"{small_height}x{small_width}\"\n",
    "desc_param = (\"jack\" if code_params['jackknife'] else \"\") + (\"CV\" if code_params[\"crossval\"] else \"\") + (\"reduced\" if code_params[\"reduce_data\"] else \"\") + res\n",
    "\n",
    "with open('prep_response.npy', 'wb') as f:\n",
    "    np.save(f, small_response)\n",
    "with open('prep_spec.npy', 'wb') as f:\n",
    "    np.save(f, spec)\n",
    "\n",
    "with open(\"code_params.yaml\", \"w\") as file:\n",
    "    yaml.dump(code_params, file)"
   ]
  }
 ],
 "metadata": {
  "kernelspec": {
   "display_name": "Python 3 (ipykernel)",
   "language": "python",
   "name": "python3"
  },
  "language_info": {
   "codemirror_mode": {
    "name": "ipython",
    "version": 3
   },
   "file_extension": ".py",
   "mimetype": "text/x-python",
   "name": "python",
   "nbconvert_exporter": "python",
   "pygments_lexer": "ipython3",
   "version": "3.13.5"
  }
 },
 "nbformat": 4,
 "nbformat_minor": 4
}
