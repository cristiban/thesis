{
 "cells": [
  {
   "cell_type": "code",
   "execution_count": 7,
   "metadata": {},
   "outputs": [],
   "source": [
    "from scipy.io import loadmat\n",
    "import matplotlib.pyplot as plt\n",
    "from matplotlib import colormaps as cm\n",
    "import numpy as np\n",
    "import cv2\n",
    "from PIL import Image"
   ]
  },
  {
   "cell_type": "code",
   "execution_count": 8,
   "metadata": {},
   "outputs": [],
   "source": [
    "test_data = loadmat(\"test_data/test.mat\")\n",
    "test_data = test_data['data']\n",
    "\n",
    "# use frame index as first dimension\n",
    "test_data = test_data.transpose((2, 0, 1))"
   ]
  },
  {
   "cell_type": "code",
   "execution_count": 9,
   "metadata": {},
   "outputs": [],
   "source": [
    "# make movie\n",
    "frame_size = test_data.shape[1:3]\n",
    "\n",
    "out_lossless = cv2.VideoWriter('test_video.mkv',cv2.VideoWriter_fourcc(*'FFV1'), 100, (frame_size[1], frame_size[0]))\n",
    "out_lossy = cv2.VideoWriter('test_video_lossy.mkv',cv2.VideoWriter_fourcc(*'VP90'), 100, (frame_size[1], frame_size[0]))\n",
    "\n",
    "cm_test_data = np.copy(test_data)\n",
    "\n",
    "bwr_cm = cm.get_cmap('bwr')\n",
    "cm_test_data = bwr_cm((test_data - np.min(test_data)) / (np.max(test_data) - np.min(test_data)))\n",
    "\n",
    "cm_test_data = (cm_test_data[:, :, :, :3]*255).astype(np.uint8)\n",
    "\n",
    "example_images = 100, 250, 400\n",
    "\n",
    "for index, frame in enumerate(cm_test_data):\n",
    "    if index in example_images:\n",
    "        cv2.imwrite(f\"images/frame_{index}.png\", frame)\n",
    "    out_lossless.write(frame)\n",
    "    out_lossy.write(frame)\n",
    "out_lossless.release()\n",
    "out_lossy.release()"
   ]
  },
  {
   "cell_type": "code",
   "execution_count": null,
   "metadata": {},
   "outputs": [],
   "source": []
  }
 ],
 "metadata": {
  "kernelspec": {
   "display_name": "base",
   "language": "python",
   "name": "python3"
  },
  "language_info": {
   "codemirror_mode": {
    "name": "ipython",
    "version": 3
   },
   "file_extension": ".py",
   "mimetype": "text/x-python",
   "name": "python",
   "nbconvert_exporter": "python",
   "pygments_lexer": "ipython3",
   "version": "3.11.11"
  }
 },
 "nbformat": 4,
 "nbformat_minor": 2
}
